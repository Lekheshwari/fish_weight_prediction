{
 "cells": [
  {
   "cell_type": "markdown",
   "id": "23bb4afb",
   "metadata": {},
   "source": [
    "# import libraries"
   ]
  },
  {
   "cell_type": "code",
   "execution_count": 1,
   "id": "8618c0f1",
   "metadata": {},
   "outputs": [],
   "source": [
    "import pandas as pd\n",
    "import numpy as np \n",
    "\n",
    "from sklearn.model_selection import train_test_split\n",
    "from sklearn.linear_model import LinearRegression\n",
    "from sklearn.metrics import mean_absolute_error,mean_squared_error,r2_score\n",
    "\n",
    "\n",
    "import seaborn as sns \n",
    "import matplotlib.pyplot as plt\n",
    "\n",
    "import warnings\n",
    "warnings.filterwarnings('ignore')"
   ]
  },
  {
   "cell_type": "markdown",
   "id": "37397d4a",
   "metadata": {},
   "source": [
    "### Problem Statments : "
   ]
  },
  {
   "cell_type": "markdown",
   "id": "00627168",
   "metadata": {},
   "source": [
    "#### Pridict weight of fish using following feature :\n",
    "    \n",
    "1.Species\n",
    "\n",
    "2.Length1\n",
    "\n",
    "3.Length2\n",
    "\n",
    "4.Length3\n",
    "\n",
    "5.Height\n",
    "\n",
    "6.Width    "
   ]
  },
  {
   "cell_type": "markdown",
   "id": "7d4bddb1",
   "metadata": {},
   "source": [
    "### Data Gathering"
   ]
  },
  {
   "cell_type": "code",
   "execution_count": 12,
   "id": "153ff337",
   "metadata": {},
   "outputs": [],
   "source": [
    "FILE_PATH = r'CSV_files\\Fish.csv'"
   ]
  },
  {
   "cell_type": "code",
   "execution_count": 13,
   "id": "07f61fcd",
   "metadata": {},
   "outputs": [
    {
     "data": {
      "text/html": [
       "<div>\n",
       "<style scoped>\n",
       "    .dataframe tbody tr th:only-of-type {\n",
       "        vertical-align: middle;\n",
       "    }\n",
       "\n",
       "    .dataframe tbody tr th {\n",
       "        vertical-align: top;\n",
       "    }\n",
       "\n",
       "    .dataframe thead th {\n",
       "        text-align: right;\n",
       "    }\n",
       "</style>\n",
       "<table border=\"1\" class=\"dataframe\">\n",
       "  <thead>\n",
       "    <tr style=\"text-align: right;\">\n",
       "      <th></th>\n",
       "      <th>Species</th>\n",
       "      <th>Weight</th>\n",
       "      <th>Length1</th>\n",
       "      <th>Length2</th>\n",
       "      <th>Length3</th>\n",
       "      <th>Height</th>\n",
       "      <th>Width</th>\n",
       "    </tr>\n",
       "  </thead>\n",
       "  <tbody>\n",
       "    <tr>\n",
       "      <th>0</th>\n",
       "      <td>Bream</td>\n",
       "      <td>242.0</td>\n",
       "      <td>23.2</td>\n",
       "      <td>25.4</td>\n",
       "      <td>30.0</td>\n",
       "      <td>11.5200</td>\n",
       "      <td>4.0200</td>\n",
       "    </tr>\n",
       "    <tr>\n",
       "      <th>1</th>\n",
       "      <td>Bream</td>\n",
       "      <td>290.0</td>\n",
       "      <td>24.0</td>\n",
       "      <td>26.3</td>\n",
       "      <td>31.2</td>\n",
       "      <td>12.4800</td>\n",
       "      <td>4.3056</td>\n",
       "    </tr>\n",
       "    <tr>\n",
       "      <th>2</th>\n",
       "      <td>Bream</td>\n",
       "      <td>340.0</td>\n",
       "      <td>23.9</td>\n",
       "      <td>26.5</td>\n",
       "      <td>31.1</td>\n",
       "      <td>12.3778</td>\n",
       "      <td>4.6961</td>\n",
       "    </tr>\n",
       "    <tr>\n",
       "      <th>3</th>\n",
       "      <td>Bream</td>\n",
       "      <td>363.0</td>\n",
       "      <td>26.3</td>\n",
       "      <td>29.0</td>\n",
       "      <td>33.5</td>\n",
       "      <td>12.7300</td>\n",
       "      <td>4.4555</td>\n",
       "    </tr>\n",
       "    <tr>\n",
       "      <th>4</th>\n",
       "      <td>Bream</td>\n",
       "      <td>430.0</td>\n",
       "      <td>26.5</td>\n",
       "      <td>29.0</td>\n",
       "      <td>34.0</td>\n",
       "      <td>12.4440</td>\n",
       "      <td>5.1340</td>\n",
       "    </tr>\n",
       "    <tr>\n",
       "      <th>...</th>\n",
       "      <td>...</td>\n",
       "      <td>...</td>\n",
       "      <td>...</td>\n",
       "      <td>...</td>\n",
       "      <td>...</td>\n",
       "      <td>...</td>\n",
       "      <td>...</td>\n",
       "    </tr>\n",
       "    <tr>\n",
       "      <th>154</th>\n",
       "      <td>Smelt</td>\n",
       "      <td>12.2</td>\n",
       "      <td>11.5</td>\n",
       "      <td>12.2</td>\n",
       "      <td>13.4</td>\n",
       "      <td>2.0904</td>\n",
       "      <td>1.3936</td>\n",
       "    </tr>\n",
       "    <tr>\n",
       "      <th>155</th>\n",
       "      <td>Smelt</td>\n",
       "      <td>13.4</td>\n",
       "      <td>11.7</td>\n",
       "      <td>12.4</td>\n",
       "      <td>13.5</td>\n",
       "      <td>2.4300</td>\n",
       "      <td>1.2690</td>\n",
       "    </tr>\n",
       "    <tr>\n",
       "      <th>156</th>\n",
       "      <td>Smelt</td>\n",
       "      <td>12.2</td>\n",
       "      <td>12.1</td>\n",
       "      <td>13.0</td>\n",
       "      <td>13.8</td>\n",
       "      <td>2.2770</td>\n",
       "      <td>1.2558</td>\n",
       "    </tr>\n",
       "    <tr>\n",
       "      <th>157</th>\n",
       "      <td>Smelt</td>\n",
       "      <td>19.7</td>\n",
       "      <td>13.2</td>\n",
       "      <td>14.3</td>\n",
       "      <td>15.2</td>\n",
       "      <td>2.8728</td>\n",
       "      <td>2.0672</td>\n",
       "    </tr>\n",
       "    <tr>\n",
       "      <th>158</th>\n",
       "      <td>Smelt</td>\n",
       "      <td>19.9</td>\n",
       "      <td>13.8</td>\n",
       "      <td>15.0</td>\n",
       "      <td>16.2</td>\n",
       "      <td>2.9322</td>\n",
       "      <td>1.8792</td>\n",
       "    </tr>\n",
       "  </tbody>\n",
       "</table>\n",
       "<p>159 rows × 7 columns</p>\n",
       "</div>"
      ],
      "text/plain": [
       "    Species  Weight  Length1  Length2  Length3   Height   Width\n",
       "0     Bream   242.0     23.2     25.4     30.0  11.5200  4.0200\n",
       "1     Bream   290.0     24.0     26.3     31.2  12.4800  4.3056\n",
       "2     Bream   340.0     23.9     26.5     31.1  12.3778  4.6961\n",
       "3     Bream   363.0     26.3     29.0     33.5  12.7300  4.4555\n",
       "4     Bream   430.0     26.5     29.0     34.0  12.4440  5.1340\n",
       "..      ...     ...      ...      ...      ...      ...     ...\n",
       "154   Smelt    12.2     11.5     12.2     13.4   2.0904  1.3936\n",
       "155   Smelt    13.4     11.7     12.4     13.5   2.4300  1.2690\n",
       "156   Smelt    12.2     12.1     13.0     13.8   2.2770  1.2558\n",
       "157   Smelt    19.7     13.2     14.3     15.2   2.8728  2.0672\n",
       "158   Smelt    19.9     13.8     15.0     16.2   2.9322  1.8792\n",
       "\n",
       "[159 rows x 7 columns]"
      ]
     },
     "execution_count": 13,
     "metadata": {},
     "output_type": "execute_result"
    }
   ],
   "source": [
    "fish_df = pd.read_csv(FILE_PATH)\n",
    "fish_df"
   ]
  },
  {
   "cell_type": "markdown",
   "id": "c615ab85",
   "metadata": {},
   "source": [
    "### EDA "
   ]
  },
  {
   "cell_type": "code",
   "execution_count": 14,
   "id": "3b63158e",
   "metadata": {},
   "outputs": [
    {
     "data": {
      "text/plain": [
       "Index(['Species', 'Weight', 'Length1', 'Length2', 'Length3', 'Height',\n",
       "       'Width'],\n",
       "      dtype='object')"
      ]
     },
     "execution_count": 14,
     "metadata": {},
     "output_type": "execute_result"
    }
   ],
   "source": [
    "fish_df.columns"
   ]
  },
  {
   "cell_type": "code",
   "execution_count": 15,
   "id": "c014d7f1",
   "metadata": {},
   "outputs": [
    {
     "name": "stdout",
     "output_type": "stream",
     "text": [
      "<class 'pandas.core.frame.DataFrame'>\n",
      "RangeIndex: 159 entries, 0 to 158\n",
      "Data columns (total 7 columns):\n",
      " #   Column   Non-Null Count  Dtype  \n",
      "---  ------   --------------  -----  \n",
      " 0   Species  159 non-null    object \n",
      " 1   Weight   159 non-null    float64\n",
      " 2   Length1  159 non-null    float64\n",
      " 3   Length2  159 non-null    float64\n",
      " 4   Length3  159 non-null    float64\n",
      " 5   Height   159 non-null    float64\n",
      " 6   Width    159 non-null    float64\n",
      "dtypes: float64(6), object(1)\n",
      "memory usage: 8.8+ KB\n"
     ]
    }
   ],
   "source": [
    "fish_df.info()"
   ]
  },
  {
   "cell_type": "markdown",
   "id": "b0cbf6dd",
   "metadata": {},
   "source": [
    "### 1.Species"
   ]
  },
  {
   "cell_type": "code",
   "execution_count": 16,
   "id": "6d4a4351",
   "metadata": {},
   "outputs": [],
   "source": [
    "# We use here  Label encoding "
   ]
  },
  {
   "cell_type": "code",
   "execution_count": 17,
   "id": "8ac6b068",
   "metadata": {},
   "outputs": [
    {
     "data": {
      "text/plain": [
       "{'Perch': 56,\n",
       " 'Bream': 35,\n",
       " 'Roach': 20,\n",
       " 'Pike': 17,\n",
       " 'Smelt': 14,\n",
       " 'Parkki': 11,\n",
       " 'Whitefish': 6}"
      ]
     },
     "execution_count": 17,
     "metadata": {},
     "output_type": "execute_result"
    }
   ],
   "source": [
    "fish_df['Species'].value_counts().to_dict()"
   ]
  },
  {
   "cell_type": "code",
   "execution_count": 18,
   "id": "0a6ccf00",
   "metadata": {},
   "outputs": [],
   "source": [
    "fish_df['Species'].replace({'Perch': 1,\n",
    " 'Bream': 2,\n",
    " 'Roach': 3,\n",
    " 'Pike': 4,\n",
    " 'Smelt': 5,\n",
    " 'Parkki': 6,\n",
    " 'Whitefish': 7},inplace= True)"
   ]
  },
  {
   "cell_type": "code",
   "execution_count": 19,
   "id": "249f3aad",
   "metadata": {},
   "outputs": [
    {
     "name": "stdout",
     "output_type": "stream",
     "text": [
      "<class 'pandas.core.series.Series'>\n",
      "RangeIndex: 159 entries, 0 to 158\n",
      "Series name: Species\n",
      "Non-Null Count  Dtype\n",
      "--------------  -----\n",
      "159 non-null    int64\n",
      "dtypes: int64(1)\n",
      "memory usage: 1.4 KB\n"
     ]
    }
   ],
   "source": [
    "fish_df['Species'].info()"
   ]
  },
  {
   "cell_type": "markdown",
   "id": "8cd7e325",
   "metadata": {},
   "source": [
    "### 2.Length1"
   ]
  },
  {
   "cell_type": "code",
   "execution_count": 20,
   "id": "5789ca65",
   "metadata": {},
   "outputs": [
    {
     "data": {
      "text/plain": [
       "0      23.2\n",
       "1      24.0\n",
       "2      23.9\n",
       "3      26.3\n",
       "4      26.5\n",
       "       ... \n",
       "154    11.5\n",
       "155    11.7\n",
       "156    12.1\n",
       "157    13.2\n",
       "158    13.8\n",
       "Name: Length1, Length: 159, dtype: float64"
      ]
     },
     "execution_count": 20,
     "metadata": {},
     "output_type": "execute_result"
    }
   ],
   "source": [
    "fish_df['Length1']"
   ]
  },
  {
   "cell_type": "code",
   "execution_count": 21,
   "id": "2b81c16f",
   "metadata": {},
   "outputs": [
    {
     "data": {
      "text/plain": [
       "<AxesSubplot: xlabel='Length1', ylabel='Density'>"
      ]
     },
     "execution_count": 21,
     "metadata": {},
     "output_type": "execute_result"
    },
    {
     "data": {
      "image/png": "[encoded data removed]",
      "text/plain": [
       "<Figure size 640x480 with 1 Axes>"
      ]
     },
     "metadata": {},
     "output_type": "display_data"
    }
   ],
   "source": [
    "sns.kdeplot(fish_df['Length1'])"
   ]
  },
  {
   "cell_type": "code",
   "execution_count": 22,
   "id": "2214e86b",
   "metadata": {},
   "outputs": [
    {
     "data": {
      "text/plain": [
       "0.5884823308370954"
      ]
     },
     "execution_count": 22,
     "metadata": {},
     "output_type": "execute_result"
    }
   ],
   "source": [
    "fish_df['Length1'].skew()"
   ]
  },
  {
   "cell_type": "markdown",
   "id": "57467bc4",
   "metadata": {},
   "source": [
    "### 3.Length2"
   ]
  },
  {
   "cell_type": "code",
   "execution_count": 23,
   "id": "9864bd3d",
   "metadata": {},
   "outputs": [
    {
     "data": {
      "text/plain": [
       "0      25.4\n",
       "1      26.3\n",
       "2      26.5\n",
       "3      29.0\n",
       "4      29.0\n",
       "       ... \n",
       "154    12.2\n",
       "155    12.4\n",
       "156    13.0\n",
       "157    14.3\n",
       "158    15.0\n",
       "Name: Length2, Length: 159, dtype: float64"
      ]
     },
     "execution_count": 23,
     "metadata": {},
     "output_type": "execute_result"
    }
   ],
   "source": [
    "fish_df['Length2']"
   ]
  },
  {
   "cell_type": "code",
   "execution_count": 24,
   "id": "de1219cf",
   "metadata": {
    "scrolled": true
   },
   "outputs": [
    {
     "data": {
      "text/plain": [
       "<AxesSubplot: xlabel='Length2', ylabel='Density'>"
      ]
     },
     "execution_count": 24,
     "metadata": {},
     "output_type": "execute_result"
    },
    {
     "data": {
      "image/png": "[encoded data removed]",
      "text/plain": [
       "<Figure size 640x480 with 1 Axes>"
      ]
     },
     "metadata": {},
     "output_type": "display_data"
    }
   ],
   "source": [
    "sns.kdeplot(fish_df['Length2'])"
   ]
  },
  {
   "cell_type": "markdown",
   "id": "a43a8989",
   "metadata": {},
   "source": [
    "### 4.Length3"
   ]
  },
  {
   "cell_type": "code",
   "execution_count": 25,
   "id": "c9e9a247",
   "metadata": {},
   "outputs": [
    {
     "data": {
      "text/plain": [
       "0      30.0\n",
       "1      31.2\n",
       "2      31.1\n",
       "3      33.5\n",
       "4      34.0\n",
       "       ... \n",
       "154    13.4\n",
       "155    13.5\n",
       "156    13.8\n",
       "157    15.2\n",
       "158    16.2\n",
       "Name: Length3, Length: 159, dtype: float64"
      ]
     },
     "execution_count": 25,
     "metadata": {},
     "output_type": "execute_result"
    }
   ],
   "source": [
    "fish_df['Length3']"
   ]
  },
  {
   "cell_type": "code",
   "execution_count": 26,
   "id": "1690c88a",
   "metadata": {},
   "outputs": [
    {
     "data": {
      "text/plain": [
       "<AxesSubplot: xlabel='Length3', ylabel='Density'>"
      ]
     },
     "execution_count": 26,
     "metadata": {},
     "output_type": "execute_result"
    },
    {
     "data": {
      "image/png": "[encoded data removed]",
      "text/plain": [
       "<Figure size 640x480 with 1 Axes>"
      ]
     },
     "metadata": {},
     "output_type": "display_data"
    }
   ],
   "source": [
    "sns.kdeplot(fish_df['Length3'])"
   ]
  },
  {
   "cell_type": "code",
   "execution_count": 27,
   "id": "bf2594e5",
   "metadata": {},
   "outputs": [
    {
     "data": {
      "text/plain": [
       "0.39154084789678356"
      ]
     },
     "execution_count": 27,
     "metadata": {},
     "output_type": "execute_result"
    }
   ],
   "source": [
    "fish_df['Length3'].skew()"
   ]
  },
  {
   "cell_type": "markdown",
   "id": "fa96fcb7",
   "metadata": {},
   "source": [
    "### 5.Height"
   ]
  },
  {
   "cell_type": "code",
   "execution_count": 28,
   "id": "01622275",
   "metadata": {},
   "outputs": [
    {
     "data": {
      "text/plain": [
       "0      11.5200\n",
       "1      12.4800\n",
       "2      12.3778\n",
       "3      12.7300\n",
       "4      12.4440\n",
       "        ...   \n",
       "154     2.0904\n",
       "155     2.4300\n",
       "156     2.2770\n",
       "157     2.8728\n",
       "158     2.9322\n",
       "Name: Height, Length: 159, dtype: float64"
      ]
     },
     "execution_count": 28,
     "metadata": {},
     "output_type": "execute_result"
    }
   ],
   "source": [
    "fish_df['Height']"
   ]
  },
  {
   "cell_type": "code",
   "execution_count": 29,
   "id": "5455cfed",
   "metadata": {},
   "outputs": [
    {
     "data": {
      "text/plain": [
       "<AxesSubplot: xlabel='Height', ylabel='Density'>"
      ]
     },
     "execution_count": 29,
     "metadata": {},
     "output_type": "execute_result"
    },
    {
     "data": {
      "image/png": "[encoded data removed]",
      "text/plain": [
       "<Figure size 640x480 with 1 Axes>"
      ]
     },
     "metadata": {},
     "output_type": "display_data"
    }
   ],
   "source": [
    "sns.kdeplot(fish_df['Height'])"
   ]
  },
  {
   "cell_type": "markdown",
   "id": "95e12d78",
   "metadata": {},
   "source": [
    "### 6.Width "
   ]
  },
  {
   "cell_type": "code",
   "execution_count": 30,
   "id": "23e96f32",
   "metadata": {},
   "outputs": [
    {
     "data": {
      "text/plain": [
       "0      4.0200\n",
       "1      4.3056\n",
       "2      4.6961\n",
       "3      4.4555\n",
       "4      5.1340\n",
       "        ...  \n",
       "154    1.3936\n",
       "155    1.2690\n",
       "156    1.2558\n",
       "157    2.0672\n",
       "158    1.8792\n",
       "Name: Width, Length: 159, dtype: float64"
      ]
     },
     "execution_count": 30,
     "metadata": {},
     "output_type": "execute_result"
    }
   ],
   "source": [
    "fish_df['Width']"
   ]
  },
  {
   "cell_type": "code",
   "execution_count": 31,
   "id": "150e873c",
   "metadata": {},
   "outputs": [
    {
     "data": {
      "text/plain": [
       "<AxesSubplot: xlabel='Width', ylabel='Density'>"
      ]
     },
     "execution_count": 31,
     "metadata": {},
     "output_type": "execute_result"
    },
    {
     "data": {
      "image/png": "[encoded data removed]",
      "text/plain": [
       "<Figure size 640x480 with 1 Axes>"
      ]
     },
     "metadata": {},
     "output_type": "display_data"
    }
   ],
   "source": [
    "sns.kdeplot(fish_df['Width'])"
   ]
  },
  {
   "cell_type": "markdown",
   "id": "db6c5b75",
   "metadata": {},
   "source": [
    "### Target Columns"
   ]
  },
  {
   "cell_type": "markdown",
   "id": "b09b118a",
   "metadata": {},
   "source": [
    "### Weight"
   ]
  },
  {
   "cell_type": "code",
   "execution_count": 32,
   "id": "03e7528a",
   "metadata": {},
   "outputs": [
    {
     "data": {
      "text/plain": [
       "0      242.0\n",
       "1      290.0\n",
       "2      340.0\n",
       "3      363.0\n",
       "4      430.0\n",
       "       ...  \n",
       "154     12.2\n",
       "155     13.4\n",
       "156     12.2\n",
       "157     19.7\n",
       "158     19.9\n",
       "Name: Weight, Length: 159, dtype: float64"
      ]
     },
     "execution_count": 32,
     "metadata": {},
     "output_type": "execute_result"
    }
   ],
   "source": [
    "fish_df['Weight']"
   ]
  },
  {
   "cell_type": "code",
   "execution_count": 33,
   "id": "8cf7bc8b",
   "metadata": {},
   "outputs": [
    {
     "data": {
      "text/plain": [
       "<AxesSubplot: xlabel='Weight', ylabel='Density'>"
      ]
     },
     "execution_count": 33,
     "metadata": {},
     "output_type": "execute_result"
    },
    {
     "data": {
      "image/png": "[encoded data removed]",
      "text/plain": [
       "<Figure size 640x480 with 1 Axes>"
      ]
     },
     "metadata": {},
     "output_type": "display_data"
    }
   ],
   "source": [
    "sns.kdeplot(fish_df['Weight'])"
   ]
  },
  {
   "cell_type": "code",
   "execution_count": 34,
   "id": "06311955",
   "metadata": {},
   "outputs": [
    {
     "data": {
      "text/plain": [
       "1.1044503929261893"
      ]
     },
     "execution_count": 34,
     "metadata": {},
     "output_type": "execute_result"
    }
   ],
   "source": [
    "fish_df['Weight'].skew()"
   ]
  },
  {
   "cell_type": "code",
   "execution_count": 35,
   "id": "7e10d82e",
   "metadata": {},
   "outputs": [
    {
     "name": "stdout",
     "output_type": "stream",
     "text": [
      "<class 'pandas.core.frame.DataFrame'>\n",
      "RangeIndex: 159 entries, 0 to 158\n",
      "Data columns (total 7 columns):\n",
      " #   Column   Non-Null Count  Dtype  \n",
      "---  ------   --------------  -----  \n",
      " 0   Species  159 non-null    int64  \n",
      " 1   Weight   159 non-null    float64\n",
      " 2   Length1  159 non-null    float64\n",
      " 3   Length2  159 non-null    float64\n",
      " 4   Length3  159 non-null    float64\n",
      " 5   Height   159 non-null    float64\n",
      " 6   Width    159 non-null    float64\n",
      "dtypes: float64(6), int64(1)\n",
      "memory usage: 8.8 KB\n"
     ]
    }
   ],
   "source": [
    "fish_df.info()"
   ]
  },
  {
   "cell_type": "code",
   "execution_count": 36,
   "id": "70b1b37a",
   "metadata": {},
   "outputs": [
    {
     "name": "stdout",
     "output_type": "stream",
     "text": [
      "<class 'pandas.core.frame.DataFrame'>\n",
      "RangeIndex: 159 entries, 0 to 158\n",
      "Data columns (total 6 columns):\n",
      " #   Column   Non-Null Count  Dtype  \n",
      "---  ------   --------------  -----  \n",
      " 0   Species  159 non-null    int64  \n",
      " 1   Length1  159 non-null    float64\n",
      " 2   Length2  159 non-null    float64\n",
      " 3   Length3  159 non-null    float64\n",
      " 4   Height   159 non-null    float64\n",
      " 5   Width    159 non-null    float64\n",
      "dtypes: float64(5), int64(1)\n",
      "memory usage: 7.6 KB\n"
     ]
    }
   ],
   "source": [
    "x = fish_df.drop(columns=['Weight'],axis=1)\n",
    "x.info()"
   ]
  },
  {
   "cell_type": "code",
   "execution_count": 37,
   "id": "16a5a02e",
   "metadata": {},
   "outputs": [],
   "source": [
    "y = fish_df['Weight']"
   ]
  },
  {
   "cell_type": "markdown",
   "id": "e59da26a",
   "metadata": {},
   "source": [
    "#### Train_Test_Split"
   ]
  },
  {
   "cell_type": "code",
   "execution_count": 38,
   "id": "29e13d97",
   "metadata": {},
   "outputs": [],
   "source": [
    "x_train,x_test,y_train,y_test=train_test_split(x,y,test_size=0.2,random_state=22)"
   ]
  },
  {
   "cell_type": "code",
   "execution_count": 39,
   "id": "09dd9564",
   "metadata": {},
   "outputs": [
    {
     "name": "stdout",
     "output_type": "stream",
     "text": [
      "<class 'pandas.core.frame.DataFrame'>\n",
      "Int64Index: 127 entries, 109 to 117\n",
      "Data columns (total 6 columns):\n",
      " #   Column   Non-Null Count  Dtype  \n",
      "---  ------   --------------  -----  \n",
      " 0   Species  127 non-null    int64  \n",
      " 1   Length1  127 non-null    float64\n",
      " 2   Length2  127 non-null    float64\n",
      " 3   Length3  127 non-null    float64\n",
      " 4   Height   127 non-null    float64\n",
      " 5   Width    127 non-null    float64\n",
      "dtypes: float64(5), int64(1)\n",
      "memory usage: 6.9 KB\n"
     ]
    }
   ],
   "source": [
    "x_train.info()"
   ]
  },
  {
   "cell_type": "code",
   "execution_count": 40,
   "id": "733d6bf2",
   "metadata": {},
   "outputs": [],
   "source": [
    "linear_regression=LinearRegression()"
   ]
  },
  {
   "cell_type": "code",
   "execution_count": 7,
   "id": "7ddb0b2f",
   "metadata": {},
   "outputs": [],
   "source": [
    "def eval_metrics(actual, pred):\n",
    "    mse = mean_squared_error(actual, pred)\n",
    "    rmse = np.sqrt(mean_squared_error(actual, pred))\n",
    "    mae = mean_absolute_error(actual, pred)\n",
    "    r2 = r2_score(actual, pred)\n",
    "    return mse, rmse, mae, r2"
   ]
  },
  {
   "cell_type": "markdown",
   "id": "10fec60c",
   "metadata": {},
   "source": [
    "### Model Training : "
   ]
  },
  {
   "cell_type": "code",
   "execution_count": 41,
   "id": "e01cb49c",
   "metadata": {},
   "outputs": [
    {
     "name": "stdout",
     "output_type": "stream",
     "text": [
      "Mean Sqaure Error : 11252.156326902375\n",
      "Root Mean Square Error : 106.07618171343827\n",
      "Mean Absolute Erro : 82.26608930247889\n",
      "R-sqaured : 0.899238599021062\n"
     ]
    }
   ],
   "source": [
    "linear_regression = LinearRegression()\n",
    "linear_regression.fit(x_train, y_train)\n",
    "y_pred_train = linear_regression.predict(x_train)\n",
    "\n",
    "mse, rmse, mae, r2=eval_metrics(y_train, y_pred_train)\n",
    "print(\"Mean Sqaure Error :\",mse)\n",
    "print(\"Root Mean Square Error :\",rmse)\n",
    "print(\"Mean Absolute Erro :\",mae)\n",
    "print(\"R-sqaured :\",r2)"
   ]
  },
  {
   "cell_type": "code",
   "execution_count": null,
   "id": "0337820b",
   "metadata": {},
   "outputs": [],
   "source": []
  },
  {
   "cell_type": "code",
   "execution_count": null,
   "id": "6dd9e76d",
   "metadata": {},
   "outputs": [],
   "source": []
  },
  {
   "cell_type": "code",
   "execution_count": null,
   "id": "3c9a59e2",
   "metadata": {},
   "outputs": [],
   "source": []
  },
  {
   "cell_type": "markdown",
   "id": "0f437e4a",
   "metadata": {},
   "source": [
    "### Moodel Testing :"
   ]
  },
  {
   "cell_type": "code",
   "execution_count": 42,
   "id": "42c08fca",
   "metadata": {},
   "outputs": [
    {
     "name": "stdout",
     "output_type": "stream",
     "text": [
      "Mean Sqaure Error : 31239.799033644304\n",
      "Root Mean Square Error : 176.74784025171087\n",
      "Mean Absolute Erro : 121.60852979438289\n",
      "R-sqaured : 0.828817220827448\n"
     ]
    }
   ],
   "source": [
    "\n",
    "y_pred_test = linear_regression.predict(x_test)\n",
    "\n",
    "mse, rmse, mae, r2=eval_metrics(y_test, y_pred_test)\n",
    "print(\"Mean Sqaure Error :\",mse)\n",
    "print(\"Root Mean Square Error :\",rmse)\n",
    "print(\"Mean Absolute Erro :\",mae)\n",
    "print(\"R-sqaured :\",r2)"
   ]
  },
  {
   "cell_type": "code",
   "execution_count": null,
   "id": "abae9973",
   "metadata": {},
   "outputs": [],
   "source": []
  },
  {
   "cell_type": "markdown",
   "id": "4fc39e40",
   "metadata": {},
   "source": [
    "### User input "
   ]
  },
  {
   "cell_type": "code",
   "execution_count": null,
   "id": "71d4b491",
   "metadata": {},
   "outputs": [],
   "source": []
  },
  {
   "cell_type": "code",
   "execution_count": 43,
   "id": "5ad859f1",
   "metadata": {},
   "outputs": [
    {
     "data": {
      "text/plain": [
       "701.5146754730113"
      ]
     },
     "execution_count": 43,
     "metadata": {},
     "output_type": "execute_result"
    }
   ],
   "source": [
    "\n",
    "Species = 'Bream'\n",
    "Length1 =  36\n",
    "Length2 =40\n",
    "Length3 = 39.0\n",
    "Height =  11.00\n",
    "Width = 6.003\n",
    "\n",
    "Project_data = {'Species': {'Perch': 1,'Bream': 2,'Roach': 3,'Pike': 4,'Smelt': 5,'Parkki': 6,'Whitefish': 7},\n",
    "                'Columns': x.columns.tolist()}\n",
    "\n",
    "\n",
    "feature= np.zeros(len(x.columns))\n",
    "\n",
    "feature[0]=Project_data['Species'][Species]\n",
    "feature[1]=Length1\n",
    "feature[2]=Length2\n",
    "feature[3]=Length3\n",
    "feature[4]=Height\n",
    "feature[5] =Width\n",
    "\n",
    "weight = linear_regression.predict([feature])\n",
    "weight[0]"
   ]
  },
  {
   "cell_type": "code",
   "execution_count": null,
   "id": "7960a9dd",
   "metadata": {},
   "outputs": [],
   "source": []
  },
  {
   "cell_type": "code",
   "execution_count": 44,
   "id": "3790d2fb",
   "metadata": {},
   "outputs": [],
   "source": [
    "Project_data = {'Species': {'Perch': 1,'Bream': 2,'Roach': 3,'Pike': 4,'Smelt': 5,'Parkki': 6,'Whitefish': 7},\n",
    "                'Columns': x.columns.tolist()}\n"
   ]
  },
  {
   "cell_type": "code",
   "execution_count": 45,
   "id": "3deda472",
   "metadata": {},
   "outputs": [
    {
     "data": {
      "text/plain": [
       "2"
      ]
     },
     "execution_count": 45,
     "metadata": {},
     "output_type": "execute_result"
    }
   ],
   "source": [
    "a= 'Bream'\n",
    "Project_data['Species'][a]"
   ]
  },
  {
   "cell_type": "code",
   "execution_count": 46,
   "id": "eb33245b",
   "metadata": {},
   "outputs": [],
   "source": [
    "import pickle\n",
    "import os\n",
    "import json \n",
    "import pickle\n"
   ]
  },
  {
   "cell_type": "code",
   "execution_count": 49,
   "id": "ee1316d3",
   "metadata": {},
   "outputs": [],
   "source": []
  },
  {
   "cell_type": "code",
   "execution_count": 50,
   "id": "095261d8",
   "metadata": {},
   "outputs": [],
   "source": [
    "with open('model.pkl','wb') as f:\n",
    "    pickle.dump(linear_regression,f)"
   ]
  },
  {
   "cell_type": "code",
   "execution_count": 49,
   "id": "7ca5325a",
   "metadata": {},
   "outputs": [],
   "source": [
    "Project_data = {'Species': {'Perch': 1,'Bream': 2,'Roach': 3,'Pike': 4,'Smelt': 5,'Parkki': 6,'Whitefish': 7},\n",
    "                'Columns': x.columns.tolist()}\n",
    "with open('project_data.json','w') as f:\n",
    "    json.dump(Project_data,f)"
   ]
  },
  {
   "cell_type": "code",
   "execution_count": 235,
   "id": "3eac695a",
   "metadata": {},
   "outputs": [
    {
     "data": {
      "text/plain": [
       "'D:\\\\Project_FIle\\\\Fish_project\\\\file_path\\\\Fish.csv'"
      ]
     },
     "execution_count": 235,
     "metadata": {},
     "output_type": "execute_result"
    }
   ],
   "source": [
    "\n",
    "\n"
   ]
  },
  {
   "cell_type": "code",
   "execution_count": 62,
   "id": "d888b341",
   "metadata": {},
   "outputs": [
    {
     "data": {
      "text/plain": [
       "266.9367586222784"
      ]
     },
     "execution_count": 62,
     "metadata": {},
     "output_type": "execute_result"
    }
   ],
   "source": [
    "import pickle,gzip\n",
    "import numpy as np \n",
    "import json \n",
    "import config\n",
    "\n",
    "class FishWeight():\n",
    "    def __init__(self,user_data):\n",
    "        \n",
    "        self.user_data = user_data\n",
    "        self.model_path =r'D:\\Project_FIle\\Fish_project\\preprocessing\\fish_model.pklz' \n",
    "        self.project_data_path =r'D:\\Project_FIle\\Fish_project\\preprocessing\\project_data.json'\n",
    "\n",
    "    def load_data(self):\n",
    "\n",
    "        with gzip.open(self.model_path,'rb') as f:\n",
    "            self.model = pickle.load(f)\n",
    "\n",
    "        with open(self.project_data_path,'r') as f:\n",
    "            self.project_data = json.load(f)\n",
    "\n",
    "    def get_fish_weight(self):\n",
    "        self.load_data()\n",
    "\n",
    "        Species = self.user_data['Species']\n",
    "\n",
    "        feature= np.zeros(len(self.project_data['Columns']))\n",
    "\n",
    "        feature[0]=self.project_data['Species'][Species]\n",
    "        feature[1]=self.user_data['Length1']\n",
    "        feature[2]=self.user_data['Length2']\n",
    "        feature[3]=self.user_data['Length3']\n",
    "        feature[4]=self.user_data['Height']\n",
    "        feature[5]=self.user_data['Width']\n",
    "\n",
    "        weight = self.model.predict([feature])[0]\n",
    "        return weight\n",
    "\n",
    "\n",
    "fish = FishWeight(user_data)\n",
    "result=fish.get_fish_weight()\n",
    "result"
   ]
  },
  {
   "cell_type": "code",
   "execution_count": 48,
   "id": "83f640d8",
   "metadata": {},
   "outputs": [
    {
     "data": {
      "text/plain": [
       "{'Species': 'Bream',\n",
       " 'Length1': 23.2,\n",
       " 'Length2': 25.4,\n",
       " 'Length3': 30.0,\n",
       " 'Height': 11.52,\n",
       " 'Width': 4.02}"
      ]
     },
     "execution_count": 48,
     "metadata": {},
     "output_type": "execute_result"
    }
   ],
   "source": [
    "user_data = {'Species': 'Bream',\n",
    "  'Length1': 23.2,\n",
    "  'Length2': 25.4,\n",
    "  'Length3': 30.0,\n",
    "  'Height': 11.52,\n",
    "  'Width': 4.02}\n",
    "user_data"
   ]
  },
  {
   "cell_type": "code",
   "execution_count": 36,
   "id": "be6e6372",
   "metadata": {},
   "outputs": [
    {
     "data": {
      "text/plain": [
       "{0: {'Species': 2.0,\n",
       "  'Length1': 23.2,\n",
       "  'Length2': 25.4,\n",
       "  'Length3': 30.0,\n",
       "  'Height': 11.52,\n",
       "  'Width': 4.02}}"
      ]
     },
     "execution_count": 36,
     "metadata": {},
     "output_type": "execute_result"
    }
   ],
   "source": [
    "x.head(1).T.to_dict()"
   ]
  },
  {
   "cell_type": "code",
   "execution_count": null,
   "id": "d8bf28b4",
   "metadata": {},
   "outputs": [],
   "source": [
    " {'Species': 2.0,\n",
    "  'Length1': 23.2,\n",
    "  'Length2': 25.4,\n",
    "  'Length3': 30.0,\n",
    "  'Height': 11.52,\n",
    "  'Width': 4.02}"
   ]
  },
  {
   "cell_type": "code",
   "execution_count": null,
   "id": "1254779d",
   "metadata": {},
   "outputs": [],
   "source": []
  },
  {
   "cell_type": "code",
   "execution_count": null,
   "id": "0539e11f",
   "metadata": {},
   "outputs": [],
   "source": []
  }
 ],
 "metadata": {
  "kernelspec": {
   "display_name": "Python 3 (ipykernel)",
   "language": "python",
   "name": "python3"
  },
  "language_info": {
   "codemirror_mode": {
    "name": "ipython",
    "version": 3
   },
   "file_extension": ".py",
   "mimetype": "text/x-python",
   "name": "python",
   "nbconvert_exporter": "python",
   "pygments_lexer": "ipython3",
   "version": "3.10.7"
  },
  "vscode": {
   "interpreter": {
    "hash": "1cbde800eb715eac3a6c7c406f81d1c50fddbf9d7a25d3780ef6a42948554865"
   }
  }
 },
 "nbformat": 4,
 "nbformat_minor": 5
}
